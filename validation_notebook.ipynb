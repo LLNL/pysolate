{
 "cells": [
  {
   "cell_type": "markdown",
   "metadata": {},
   "source": [
    "### pyBlockSeis - Block Choice Seismic Analysis in Python\n",
    "Validate against original MATLAB code\n",
    "\n",
    "#### Acknowledgements\n",
    "- Python adpation of the Matlab software Block Choice Seismic Analysis (BCseis, version 1.1) by Charles A. Langston and S. Mostafa Mousavi.\n",
    "- Forward and inverse CWTs functions based on the Synchrosqueezing Toolbox V1.21 by Eugene Brevdo and Gaurav Thakur.  (https://github.com/ebrevdo/synchrosqueezing)."
   ]
  },
  {
   "cell_type": "code",
   "execution_count": null,
   "metadata": {},
   "outputs": [],
   "source": [
    "import sys\n",
    "sys.path.append(\"src\")\n",
    "\n",
    "import pyblockseis as bcs\n",
    "from obspy.core import read\n",
    "import matplotlib.pyplot as plt\n",
    "\n",
    "import timeit\n",
    "import numpy as np"
   ]
  },
  {
   "cell_type": "code",
   "execution_count": null,
   "metadata": {
    "scrolled": false
   },
   "outputs": [],
   "source": [
    "# Read example data from BCseis\n",
    "sacfile = \"testdata/5014.YW.0.sp0011.DPZ\"\n",
    "\n",
    "start = timeit.timeit()\n",
    "params = bcs.Parameter(block_threshold=1.0, noise_threshold=\"hard\", signal_threshold=\"hard\")\n",
    "block = bcs.read(params=params, data=sacfile)\n",
    "print(block)\n",
    "\n",
    "# Run the denoiser\n",
    "block.run()\n",
    "end = timeit.timeit()\n",
    "\n",
    "# Plot results\n",
    "block.plot(\"input\")\n",
    "block.plot(\"band_rejected\")\n",
    "block.plot(\"noise_removed\")\n",
    "block.plot(\"signal_removed\")\n",
    "print(\"Run took %.4f seconds\"%(end - start))"
   ]
  },
  {
   "cell_type": "markdown",
   "metadata": {},
   "source": [
    "#### Get stations and tags"
   ]
  },
  {
   "cell_type": "code",
   "execution_count": null,
   "metadata": {},
   "outputs": [],
   "source": [
    "# Available stations\n",
    "print(block.get_station_list())\n",
    "\n",
    "# Available tags\n",
    "print(block.tags)"
   ]
  },
  {
   "cell_type": "code",
   "execution_count": null,
   "metadata": {},
   "outputs": [],
   "source": [
    "# Compare noise model outputs\n",
    "plt.figure()\n",
    "plt.title(\"Noise model\")\n",
    "\n",
    "# Get the noise model\n",
    "tag = block.noise_model_tag\n",
    "print(\"Noise model estimated from '%s' data.\"%tag)\n",
    "waves = block.get_wavelets(tag).select(network=\"YW\", station=\"5014\")\n",
    "\n",
    "# Plot figure\n",
    "plt.plot(waves[0].noise_model.P,\"k\",label=\"P-python\")\n",
    "matP = np.loadtxt(\"testdata/_matlab/P.txt\")\n",
    "plt.plot(matP,\"r--\",label=\"P-matlab\")\n",
    "plt.plot(waves[0].noise_model.M,\"g\",label=\"mean-python\")\n",
    "plt.legend()"
   ]
  },
  {
   "cell_type": "markdown",
   "metadata": {},
   "source": [
    "#### Hard-thresholding"
   ]
  },
  {
   "cell_type": "code",
   "execution_count": null,
   "metadata": {},
   "outputs": [],
   "source": [
    "# Compare processed data\n",
    "tag = \"noise_removed\"\n",
    "\n",
    "# Select data\n",
    "trace_py = block.waveforms.data[tag].select(network=\"YW\", station=\"5014\")[0]\n",
    "trace_m = read(\"testdata/_matlab/icwtblock_noisehard.sac\",format=\"SAC\")[0]\n",
    "\n",
    "# Plot figure\n",
    "plt.figure(figsize=(20,5))\n",
    "plt.title(\"Hard thresholding to remove noise\")\n",
    "plt.plot(trace_py.data,\"k\",linewidth=0.5,label=\"python\")\n",
    "plt.plot(trace_m.data,\"r--\",linewidth=0.5,label=\"matlab\")\n",
    "plt.xlim([16000,22000])\n",
    "plt.legend()"
   ]
  },
  {
   "cell_type": "code",
   "execution_count": null,
   "metadata": {},
   "outputs": [],
   "source": [
    "# Compare processed data\n",
    "tag = \"signal_removed\"\n",
    "\n",
    "# Select data\n",
    "trace_py = block.waveforms.data[tag].select(network=\"YW\", station=\"5014\")[0]\n",
    "trace_m = read(\"testdata/_matlab/icwtblock_signalhard.sac\",format=\"SAC\")[0]\n",
    "\n",
    "# Plot figure\n",
    "plt.figure(figsize=(20,5))\n",
    "plt.title(\"Hard thresholding to remove signal\")\n",
    "plt.plot(trace_py.data,\"k\",linewidth=0.5,label=\"python\")\n",
    "plt.plot(trace_m.data,\"r--\",linewidth=0.5,label=\"matlab\")\n",
    "plt.xlim([16000,22000])\n",
    "plt.legend()"
   ]
  },
  {
   "cell_type": "markdown",
   "metadata": {},
   "source": [
    "#### Soft-thresholding"
   ]
  },
  {
   "cell_type": "code",
   "execution_count": null,
   "metadata": {},
   "outputs": [],
   "source": [
    "block.params.noise_threshold=\"soft\"\n",
    "block.params.signal_threshold=\"soft\"\n",
    "block.run()"
   ]
  },
  {
   "cell_type": "code",
   "execution_count": null,
   "metadata": {},
   "outputs": [],
   "source": [
    "# Compare results\n",
    "tag = \"noise_removed\"\n",
    "\n",
    "# Select station\n",
    "trace_py = block.waveforms.data[tag].select(network=\"YW\", station=\"5014\")[0]\n",
    "trace_m = read(\"testdata/_matlab/icwtblock_noisesoft.sac\",format=\"SAC\")[0]\n",
    "\n",
    "plt.figure(figsize=(20,5))\n",
    "plt.title(\"Soft thresholding to remove noise\")\n",
    "plt.plot(trace_py.data,\"k\",linewidth=0.5,label=\"python\")\n",
    "plt.plot(trace_m.data,\"r-\",linewidth=0.5,label=\"matlab\")\n",
    "plt.xlim([16000,28000])\n",
    "plt.legend()"
   ]
  },
  {
   "cell_type": "code",
   "execution_count": null,
   "metadata": {},
   "outputs": [],
   "source": [
    "# Compare results\n",
    "tag = \"signal_removed\"\n",
    "\n",
    "# Select station\n",
    "trace_py = block.waveforms.data[tag].select(network=\"YW\", station=\"5014\")[0]\n",
    "trace_m = read(\"testdata/_matlab/icwtblock_signalsoft.sac\",format=\"SAC\")[0]\n",
    "\n",
    "# Plot figure\n",
    "plt.figure(figsize=(20,5))\n",
    "plt.title(\"Soft thresholding to remove signal\")\n",
    "plt.plot(trace_py.data,\"k\",linewidth=0.5,label=\"python\")\n",
    "plt.plot(trace_m.data,\"r-\",linewidth=0.5,label=\"matlab\")\n",
    "plt.xlim([10000,20000])\n",
    "plt.legend()"
   ]
  },
  {
   "cell_type": "code",
   "execution_count": null,
   "metadata": {},
   "outputs": [],
   "source": [
    "# Test update functions\n",
    "block.params.nsigma_method = \"donoho\"\n",
    "block.params.bandpass_blocking = False\n",
    "block.params.estimate_noise = True\n",
    "block.params.snr_detection = True\n",
    "block.run()\n",
    "print(\"Available tags:\")\n",
    "print(block.tags)\n",
    "block.plot(\"signal_removed\")"
   ]
  },
  {
   "cell_type": "markdown",
   "metadata": {},
   "source": [
    "#### Test ASDF format"
   ]
  },
  {
   "cell_type": "code",
   "execution_count": null,
   "metadata": {},
   "outputs": [],
   "source": [
    "filename = \"testdata/578449.h5\"\n",
    "\n",
    "params = bcs.Parameter(block_threshold=1.0, noise_threshold=\"hard\", signal_threshold=\"hard\")\n",
    "\n",
    "# Initalize the block processing module\n",
    "block = bcs.read(params=params, asdf_file=\"testdata/578449.h5\")\n",
    "\n",
    "# Event information\n",
    "print(block.event)\n",
    "\n",
    "block.run()\n",
    "print(block.get_station_list())\n",
    "print(block.tags)"
   ]
  },
  {
   "cell_type": "markdown",
   "metadata": {},
   "source": [
    "#### Test write function"
   ]
  },
  {
   "cell_type": "code",
   "execution_count": null,
   "metadata": {},
   "outputs": [],
   "source": [
    "tag = \"noise_removed\"\n",
    "\n",
    "# Waveforms\n",
    "filename=\"junk\"\n",
    "output=\"waveforms\"\n",
    "\n",
    "# npz format\n",
    "block.write(tag, output=output, format=\"npz\")\n",
    "npzfile = np.load(\"LB.DAC..LHR.npz\")\n",
    "print(npzfile.files)\n",
    "block.write(tag, output=output, format=\"npz\", filename=filename)\n",
    "npzfile = np.load(\"junk.npz\")\n",
    "print(npzfile.files)\n",
    "\n",
    "# SAC format\n",
    "filename = \"junk.sac\"\n",
    "block.write(tag, output=output, format=\"SAC\")\n",
    "block.write(tag, output=output, format=\"SAC\", filename=filename)\n",
    "\n"
   ]
  },
  {
   "cell_type": "code",
   "execution_count": null,
   "metadata": {},
   "outputs": [],
   "source": [
    "# CWTs\n",
    "filename=\"junk.cwt\"\n",
    "output=\"cwt\"\n",
    "\n",
    "# npz format\n",
    "block.write(tag, output=output, format=\"npz\")\n",
    "npzfile = np.load(\"LB.DAC..LHR.cwt.npz\")\n",
    "print(npzfile.files)\n",
    "block.write(tag, output=output, format=\"npz\", filename=filename)\n",
    "npzfile = np.load(\"junk.cwt.npz\")\n",
    "print(npzfile.files)"
   ]
  }
 ],
 "metadata": {
  "jupytext": {
   "formats": "ipynb,py:light"
  },
  "kernelspec": {
   "display_name": "obspy",
   "language": "python",
   "name": "obspy"
  },
  "language_info": {
   "codemirror_mode": {
    "name": "ipython",
    "version": 3
   },
   "file_extension": ".py",
   "mimetype": "text/x-python",
   "name": "python",
   "nbconvert_exporter": "python",
   "pygments_lexer": "ipython3",
   "version": "3.8.5"
  }
 },
 "nbformat": 4,
 "nbformat_minor": 4
}
