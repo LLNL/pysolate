{
 "cells": [
  {
   "cell_type": "markdown",
   "metadata": {},
   "source": [
    "### pyBlockSeis - Block Choice Seismic Analysis in Python"
   ]
  },
  {
   "cell_type": "code",
   "execution_count": 1,
   "metadata": {},
   "outputs": [],
   "source": [
    "import sys\n",
    "sys.path.append(\"src\")\n",
    "\n",
    "import timeit\n",
    "import numpy as np\n",
    "import pyblockseis as bcs\n",
    "import matplotlib.pyplot as plt\n",
    "\n",
    "from obspy.core import read, Stream\n",
    "\n",
    "%matplotlib inline"
   ]
  },
  {
   "cell_type": "markdown",
   "metadata": {},
   "source": [
    "### Dataset\n",
    "\n",
    "\n",
    "**Nuclear explosions from Bondar et al. 2005 (Figure 5)**\n",
    "\n",
    "| EVID | ORID | NAME | DATE | MSEC | LON | LAT | DEPTH | ML |\n",
    "| --- | --- | --- | --- | --- | --- | --- | --- | --- |\n",
    "| 511553 | 3962829 | Clairette | 1981-02-05T18:00:00 | 120 | -116.033 | 37.011 | 0.354 | 3.2 |\n",
    "| 514907 | 3962836 | Havarti   | 1981-08-05T13:41:00 | 90  | -116.036 | 37.154 | 0.200 | 2.8 |\n",
    "| 515492 | 3962838 | Trebbiano | 1981-09-04T15:00:00 | 100 | -116.067 | 37.160 | 0.294 | 3.8 |\n",
    "| 578449 | 3962949 | Tahoka    | 1987-08-13T14:00:00 | 90  | -116.046 | 37.061 | 0.639 | 5.5 |\n"
   ]
  },
  {
   "cell_type": "markdown",
   "metadata": {},
   "source": [
    "### Available wavelet processing parameters\n",
    "\n",
    "* **wave_type**: wavelet filter type, options are ``\"morlet\"``, ``\"shannon\"``, ``\"mhat\"``, ``\"hhat\"``.\n",
    "Default is ``\"morlet\"``.\n",
    "\n",
    "* **nvoices**: number of voices, or the sampling of CWT in scale.\n",
    "Higher number of voices give finer resolution. Default is ``16``.\n",
    "\n",
    "* **bandpass_blocking**: Default value ``True`` will apply a band rejection filter where\n",
    "wavelet coefficients are modified over a scale bandpass.\n",
    "\n",
    "* **scale_min**: minimum time scale for bandpass blocking. Default is ``1``.\n",
    "\n",
    "* **scale_max**: maximum time scale for bandpass blocking. Default is ``200``.\n",
    "\n",
    "* **block_threshhold:** percent amplitude adjustment to the wavelet coefficients within\n",
    "``scale_min`` and ``scale_max``. For example a threshold of 5% means the wavelet cofficients\n",
    "in the band will be multipled by 0.05. Default is ``0``.\n",
    "\n",
    "* **estimate_noise**: flag to compute the noise model, default is ``True``.\n",
    "\n",
    "* **noise_starttime**: noise start time, default is ``0``.\n",
    "\n",
    "* **noise_endtime**: noise end time, default is ``60``.\n",
    "\n",
    "* **noise_threshold**: type of noise thresholding to be applied, the options are\n",
    "``\"hard\"`` for hard thresholding and ``\"soft\"`` for soft thresholding. Default is ``None``.\n",
    "\n",
    "* **signal_threshold**: type of signal thresholding to be appied, the options are\n",
    "``\"hard\"`` for hard thresholding, and ``\"soft\"`` for soft thresholding. Default is ``None``.\n",
    "\n",
    "* **nsigma_method**: method to determine the number of standard deviations for block thresholding.\n",
    "``\"donoho\"`` for Donoho's Threshold criterion and ``\"ECDF\"`` for empirical cumulative probability\n",
    "distribution method. You can also specify the number of standard deviations by entering a number.\n",
    "None ECDF method assumes Gaussian statistic. The default method ``\"ECDF\"`` is recommended.\n",
    "\n",
    "* **snr_detection**: Flag to apply the SNR detection method, default is ``False``. If ``True`` it\n",
    "will be applied before hard thresholding.\n",
    "\n",
    "* **snr_lowerbound**: Noise level percent lower bound. Default is ``1.0``.\n"
   ]
  },
  {
   "cell_type": "code",
   "execution_count": 2,
   "metadata": {
    "scrolled": false
   },
   "outputs": [
    {
     "name": "stdout",
     "output_type": "stream",
     "text": [
      "Run took 5.6281 seconds\n"
     ]
    }
   ],
   "source": [
    "# Pre-processing\n",
    "time_before = 0 # Cut data relative to origin\n",
    "time_after = 200\n",
    "sampling_rate = 40\n",
    "\n",
    "# CWT operations\n",
    "params = bcs.Parameter(\n",
    "    scale_min=1.,\n",
    "    scale_max=100.,\n",
    "    bandpass_blocking=True,\n",
    "    block_threshold=5.0,\n",
    "    noise_endtime=60.,\n",
    "    noise_threshold=\"soft\",\n",
    ")\n",
    "\n",
    "start = timeit.default_timer()\n",
    "# Create a block object for each event\n",
    "blocks = []\n",
    "for evid in [511553, 514907, 515492, 578449]:\n",
    "    \n",
    "    # Do some pre-processing to the data\n",
    "    st = read(\"testdata/bondar_2015_data/%d/waveforms/*.v\"%evid, format=\"SAC\")\n",
    "    st.resample(40.0)\n",
    "    for tr in st:\n",
    "        # Find origin time from SAC header\n",
    "        origin_time = tr.stats.starttime + (tr.stats.sac.o-tr.stats.sac.b)\n",
    "        tr.stats.origin_time = origin_time\n",
    "        tr.trim(origin_time+time_before, origin_time+time_after)\n",
    "       \n",
    "    # Initalize and run block object\n",
    "    block = bcs.read(params=params, data=st)\n",
    "    block.run()\n",
    "    blocks.append(block)\n",
    "\n",
    "end = timeit.default_timer()\n",
    "print(\"Run took %.4f seconds\"%(end - start))\n",
    "#Run took 5.4824 seconds"
   ]
  },
  {
   "cell_type": "code",
   "execution_count": null,
   "metadata": {
    "scrolled": false
   },
   "outputs": [],
   "source": [
    "for i, block in enumerate(blocks):\n",
    "    print(\"Available data for event %d\"%i)\n",
    "    print(block.get_station_list())\n",
    "    print(block.tags)"
   ]
  },
  {
   "cell_type": "markdown",
   "metadata": {},
   "source": [
    "### Comparing CWT and the noise model\n",
    "\n",
    "You can select data that matches the station criteria:\n",
    "- network code\n",
    "- station code\n",
    "- location code\n",
    "- channel code\n",
    "- component code\n",
    "\n",
    "Example below will plot the results of Elko (ELK) for the first event in the table, Clairette."
   ]
  },
  {
   "cell_type": "code",
   "execution_count": null,
   "metadata": {},
   "outputs": [],
   "source": [
    "# Get the noise model\n",
    "# Depending on the processing it can be the \"input\" waveforms or \"band_rejected\"\n",
    "block = blocks[0]\n",
    "tag = block.noise_model_tag \n",
    "print(\"Noise model estimated from '%s' data.\"%tag)\n",
    "\n",
    "# Select the CWT for ELK will return 4 WaveletCollection objects\n",
    "# for each event\n",
    "wave = block.get_wavelets(tag).select(station=\"ELK\")[0]\n",
    "\n",
    "# You can select the seismograms the same way\n",
    "tr = block.waveforms.data[tag].select(station=\"ELK\")[0]\n",
    "\n",
    "# Select the first event\n",
    "scales = np.log10(wave.scales)\n",
    "threshold = wave.noise_model.P\n",
    "mean = wave.noise_model.M\n",
    "\n",
    "fig = plt.figure(figsize=(12,5))\n",
    "ax1 = plt.subplot2grid((2,3),(0,0))\n",
    "ax1.plot(threshold, scales,\"k\",label=\"threshold\")\n",
    "ax1.plot(mean, scales, \"g\", label=\"mean\")\n",
    "ax1.invert_xaxis()\n",
    "ax1.invert_yaxis()\n",
    "ax1.legend()\n",
    "ax1.set_title(\"Noise model\")\n",
    "\n",
    "# Plot scalogram\n",
    "extent = [time_before, time_after, max(scales), min(scales)]\n",
    "ax2 = plt.subplot2grid((2,3),(0,1), colspan=2)\n",
    "ax2.imshow(abs(wave.coefs), extent=extent, aspect=\"auto\")\n",
    "ax2.set_title(\"Scalogram: %s data\"%tag)\n",
    "\n",
    "# Plot waveform\n",
    "ax3 = plt.subplot2grid((2,3),(1,1), colspan=2)\n",
    "ax3.plot(tr.times(), tr.data, color=\"k\", linewidth=0.6)"
   ]
  },
  {
   "cell_type": "markdown",
   "metadata": {},
   "source": [
    "### Denoised data"
   ]
  },
  {
   "cell_type": "code",
   "execution_count": null,
   "metadata": {},
   "outputs": [],
   "source": [
    "block.plot(\"noise_removed\", station=\"ELK\")"
   ]
  },
  {
   "cell_type": "markdown",
   "metadata": {},
   "source": [
    "### Write waveform data to file"
   ]
  },
  {
   "cell_type": "code",
   "execution_count": null,
   "metadata": {},
   "outputs": [],
   "source": [
    "# Use the write function to save your waveforms to any ObsPy supported\n",
    "# formats or numpy npz format.\n",
    "\n",
    "tag = \"noise_removed\" # save the denoised data\n",
    "output = \"waveforms\"\n",
    "\n",
    "# SAC format\n",
    "block.write(tag, output=output, format=\"SAC\")\n",
    "\n",
    "# Numpy npz format (compressed binary)\n",
    "block.write(tag, output=output, format=\"npz\")"
   ]
  },
  {
   "cell_type": "markdown",
   "metadata": {},
   "source": [
    "### Write CWT to file"
   ]
  },
  {
   "cell_type": "code",
   "execution_count": null,
   "metadata": {},
   "outputs": [],
   "source": [
    "# Save the wavelet transforms, only numpy npz is supported right now\n",
    "\n",
    "tag = \"noise_removed\" # save the denoised CWT\n",
    "output = \"cwt\"\n",
    "\n",
    "# Numpy npz format (compressed binary)\n",
    "block.write(tag, output=output, format=\"npz\")"
   ]
  }
 ],
 "metadata": {
  "jupytext": {
   "formats": "ipynb,py:light"
  },
  "kernelspec": {
   "display_name": "obspy",
   "language": "python",
   "name": "obspy"
  },
  "language_info": {
   "codemirror_mode": {
    "name": "ipython",
    "version": 3
   },
   "file_extension": ".py",
   "mimetype": "text/x-python",
   "name": "python",
   "nbconvert_exporter": "python",
   "pygments_lexer": "ipython3",
   "version": "3.8.12"
  }
 },
 "nbformat": 4,
 "nbformat_minor": 4
}
